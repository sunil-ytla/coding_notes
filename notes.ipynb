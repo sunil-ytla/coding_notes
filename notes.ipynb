{
 "cells": [
  {
   "cell_type": "markdown",
   "id": "initial_id",
   "metadata": {
    "collapsed": true
   },
   "source": [
    "- sudo apt update\n",
    "\n",
    "- sudo apt install nginx\n",
    "\n",
    "- sudo systemctl status nginx\n",
    "\n",
    "[then go to your server public ip and u will see nginx in chrome page]\n",
    "\n",
    "- cd /etc/nginx\n",
    "\n",
    "After making nay changes to nginx configuration u can just do the below to validate the files\n",
    "    \n",
    "- sudo nginx -t\n",
    "\n",
    "And then to reload nginx with new config\n",
    "\n",
    "- sudo systemctl reload nginx\n",
    "\n",
    "\n",
    "To create any new configuration first u need to cd into nginx (above steps)\n",
    "The u need to go to conf.d folder\n",
    "\n",
    "- cd conf.d\n",
    "    \n",
    "And create a conf file with the same domain name u want (this is best practice)\n",
    "\n",
    "- sudo vim cafe.codersgyan.com.conf\n",
    "And inside write\n",
    "\n"
   ]
  },
  {
   "cell_type": "markdown",
   "id": "98912832",
   "metadata": {},
   "source": [
    "```bash\n",
    "server {\n",
    "    listen 80 default_server;\n",
    "    root /var/www/cafe;\n",
    "\n",
    "    server_name _;\n",
    "    # server_name cafe.codersgyan.com codersgyan.com *.codersgyan.com; # can have multiple domain names or u can use _ which is default or u can use ip address here\n",
    "\n",
    "    index index.html index.htm;      # this is a special directive which says what file should u use as index when u go inside root path (here eg. /var/www/cafe)\n",
    "\n",
    "    location / {\n",
    "        try_files $uri $uri/ =404;  # if we go to webside 19.164.194.18/products then it will do to location /var/www/cafe/products and it will search for one of index files (ie, index.html index.htm) and if not found will give error 404, or if we just give 19.164.194.18 then it will search for index files in www/cafe/ and serve them. or if we use something like this 19.164.194.18/about.html then it will try to load about.html from /www/cafe (eg if we have something like this www/cafe/about.html it will be loaded)\n",
    "    }\n",
    "}"
   ]
  },
  {
   "cell_type": "markdown",
   "id": "4f420fcf",
   "metadata": {},
   "source": [
    "then save the file and run in terminal\n",
    "- sudo nginx -t\n",
    "- systemctl reload nginx"
   ]
  },
  {
   "cell_type": "markdown",
   "id": "b39ea5d2",
   "metadata": {},
   "source": [
    "we can see that nothing is being loaded and webpage is giving error.\n",
    "let's cd in to that folder\n",
    "\n",
    "- cd /var/www\n",
    "\n",
    "let's clone a repository into cafe folder\n",
    "- sudo git clone githubcloneurl cafe\n",
    "\n",
    "cd into cafe\n",
    "- cd cafe\n",
    "u should have the index.html here so that will be loaded\n"
   ]
  },
  {
   "cell_type": "markdown",
   "id": "85b7c630",
   "metadata": {},
   "source": [
    "until now we are accessing the website from to make website run with domain,\n",
    "* go to where u got ur domain from (eg. godaddy)\n",
    "* create a new dns record of type `A` (if we are creating subdomain in same vm where we have main domain then u can use `CNAME` instead of `A`)\n",
    "* give a name and ipaddress where you are serving this (vm address most probably)\n",
    "* open the file u created `cafe.codersgyan.com.conf` and update one thing and after update it should look like below."
   ]
  },
  {
   "cell_type": "markdown",
   "id": "8b9a29b9",
   "metadata": {},
   "source": [
    "```bash\n",
    "server {\n",
    "    listen 80 default_server;\n",
    "    root /var/www/cafe;\n",
    "\n",
    "    server_name cafe.codersgyan.com;\n",
    "    # server_name cafe.codersgyan.com codersgyan.com *.codersgyan.com; # can have multiple domain names or u can use _ which is default or u can use ip address here\n",
    "\n",
    "    index index.html index.htm;      # this is a special directive which says what file should u use as index when u go inside root path (here eg. /var/www/cafe)\n",
    "\n",
    "    location / {\n",
    "        try_files $uri $uri/ =404;  # if we go to webside 19.164.194.18/products then it will do to location /var/www/cafe/products and it will search for one of index files (ie, index.html index.htm) and if not found will give error 404, or if we just give 19.164.194.18 then it will search for index files in www/cafe/ and serve them. or if we use something like this 19.164.194.18/about.html then it will try to load about.html from /www/cafe (eg if we have something like this www/cafe/about.html it will be loaded)\n",
    "    }\n",
    "}"
   ]
  },
  {
   "cell_type": "markdown",
   "id": "fafd919c",
   "metadata": {},
   "source": [
    "after that\n",
    "* sudo nginx -t\n",
    "* sudo systemctl reload nginx"
   ]
  }
 ],
 "metadata": {
  "kernelspec": {
   "display_name": "Python 3",
   "language": "python",
   "name": "python3"
  },
  "language_info": {
   "codemirror_mode": {
    "name": "ipython",
    "version": 2
   },
   "file_extension": ".py",
   "mimetype": "text/x-python",
   "name": "python",
   "nbconvert_exporter": "python",
   "pygments_lexer": "ipython2",
   "version": "2.7.6"
  }
 },
 "nbformat": 4,
 "nbformat_minor": 5
}
